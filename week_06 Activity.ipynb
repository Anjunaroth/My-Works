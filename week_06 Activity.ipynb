{
 "cells": [
  {
   "cell_type": "code",
   "execution_count": 1,
   "id": "b792a814",
   "metadata": {},
   "outputs": [],
   "source": [
    "import numpy as np\n",
    "import pandas as pd"
   ]
  },
  {
   "cell_type": "markdown",
   "id": "d3a99841",
   "metadata": {},
   "source": [
    "## Read the data set into python"
   ]
  },
  {
   "cell_type": "code",
   "execution_count": 2,
   "id": "b1fb7229",
   "metadata": {},
   "outputs": [],
   "source": [
    "data = pd.read_excel('Dataset_w6.xlsx')"
   ]
  },
  {
   "cell_type": "code",
   "execution_count": 3,
   "id": "ad98e6e1",
   "metadata": {},
   "outputs": [
    {
     "data": {
      "text/html": [
       "<div>\n",
       "<style scoped>\n",
       "    .dataframe tbody tr th:only-of-type {\n",
       "        vertical-align: middle;\n",
       "    }\n",
       "\n",
       "    .dataframe tbody tr th {\n",
       "        vertical-align: top;\n",
       "    }\n",
       "\n",
       "    .dataframe thead th {\n",
       "        text-align: right;\n",
       "    }\n",
       "</style>\n",
       "<table border=\"1\" class=\"dataframe\">\n",
       "  <thead>\n",
       "    <tr style=\"text-align: right;\">\n",
       "      <th></th>\n",
       "      <th>country</th>\n",
       "      <th>Region</th>\n",
       "      <th>Surface area (km2)</th>\n",
       "      <th>Population in thousands (2017)</th>\n",
       "      <th>GDP per capita (current US$)</th>\n",
       "      <th>Agricultural production index</th>\n",
       "      <th>International trade: Imports (million US$)</th>\n",
       "    </tr>\n",
       "  </thead>\n",
       "  <tbody>\n",
       "    <tr>\n",
       "      <th>0</th>\n",
       "      <td>Afghanistan</td>\n",
       "      <td>SouthernAsia</td>\n",
       "      <td>652864.0</td>\n",
       "      <td>35530.0</td>\n",
       "      <td>623.2</td>\n",
       "      <td>125.0</td>\n",
       "      <td>3568.0</td>\n",
       "    </tr>\n",
       "    <tr>\n",
       "      <th>1</th>\n",
       "      <td>Albania</td>\n",
       "      <td>SouthernEurope</td>\n",
       "      <td>28748.0</td>\n",
       "      <td>2930.0</td>\n",
       "      <td>3984.2</td>\n",
       "      <td>134.0</td>\n",
       "      <td>4669.0</td>\n",
       "    </tr>\n",
       "    <tr>\n",
       "      <th>2</th>\n",
       "      <td>Algeria</td>\n",
       "      <td>NorthernAfrica</td>\n",
       "      <td>2381741.0</td>\n",
       "      <td>41318.0</td>\n",
       "      <td>4154.1</td>\n",
       "      <td>160.0</td>\n",
       "      <td>47091.0</td>\n",
       "    </tr>\n",
       "    <tr>\n",
       "      <th>3</th>\n",
       "      <td>Angola</td>\n",
       "      <td>MiddleAfrica</td>\n",
       "      <td>1246700.0</td>\n",
       "      <td>29784.0</td>\n",
       "      <td>4714.1</td>\n",
       "      <td>175.0</td>\n",
       "      <td>8790.0</td>\n",
       "    </tr>\n",
       "    <tr>\n",
       "      <th>4</th>\n",
       "      <td>Antigua and Barbuda</td>\n",
       "      <td>Caribbean</td>\n",
       "      <td>442.0</td>\n",
       "      <td>102.0</td>\n",
       "      <td>14764.5</td>\n",
       "      <td>88.0</td>\n",
       "      <td>491.0</td>\n",
       "    </tr>\n",
       "    <tr>\n",
       "      <th>...</th>\n",
       "      <td>...</td>\n",
       "      <td>...</td>\n",
       "      <td>...</td>\n",
       "      <td>...</td>\n",
       "      <td>...</td>\n",
       "      <td>...</td>\n",
       "      <td>...</td>\n",
       "    </tr>\n",
       "    <tr>\n",
       "      <th>191</th>\n",
       "      <td>Venezuela (Bolivarian Republic of)</td>\n",
       "      <td>SouthAmerica</td>\n",
       "      <td>912050.0</td>\n",
       "      <td>31977.0</td>\n",
       "      <td>11068.9</td>\n",
       "      <td>118.0</td>\n",
       "      <td>16324.0</td>\n",
       "    </tr>\n",
       "    <tr>\n",
       "      <th>192</th>\n",
       "      <td>Viet Nam</td>\n",
       "      <td>South-easternAsia</td>\n",
       "      <td>330967.0</td>\n",
       "      <td>95541.0</td>\n",
       "      <td>2067.9</td>\n",
       "      <td>136.0</td>\n",
       "      <td>174111.0</td>\n",
       "    </tr>\n",
       "    <tr>\n",
       "      <th>193</th>\n",
       "      <td>Yemen</td>\n",
       "      <td>WesternAsia</td>\n",
       "      <td>527968.0</td>\n",
       "      <td>28250.0</td>\n",
       "      <td>1106.4</td>\n",
       "      <td>136.0</td>\n",
       "      <td>6861.0</td>\n",
       "    </tr>\n",
       "    <tr>\n",
       "      <th>194</th>\n",
       "      <td>Zambia</td>\n",
       "      <td>EasternAfrica</td>\n",
       "      <td>752612.0</td>\n",
       "      <td>17094.0</td>\n",
       "      <td>1311.1</td>\n",
       "      <td>179.0</td>\n",
       "      <td>7442.0</td>\n",
       "    </tr>\n",
       "    <tr>\n",
       "      <th>195</th>\n",
       "      <td>Zimbabwe</td>\n",
       "      <td>EasternAfrica</td>\n",
       "      <td>390757.0</td>\n",
       "      <td>16530.0</td>\n",
       "      <td>890.4</td>\n",
       "      <td>99.0</td>\n",
       "      <td>5212.0</td>\n",
       "    </tr>\n",
       "  </tbody>\n",
       "</table>\n",
       "<p>196 rows × 7 columns</p>\n",
       "</div>"
      ],
      "text/plain": [
       "                                country             Region  \\\n",
       "0                           Afghanistan       SouthernAsia   \n",
       "1                               Albania     SouthernEurope   \n",
       "2                               Algeria     NorthernAfrica   \n",
       "3                                Angola       MiddleAfrica   \n",
       "4                   Antigua and Barbuda          Caribbean   \n",
       "..                                  ...                ...   \n",
       "191  Venezuela (Bolivarian Republic of)       SouthAmerica   \n",
       "192                            Viet Nam  South-easternAsia   \n",
       "193                               Yemen        WesternAsia   \n",
       "194                              Zambia      EasternAfrica   \n",
       "195                            Zimbabwe      EasternAfrica   \n",
       "\n",
       "     Surface area (km2)  Population in thousands (2017)  \\\n",
       "0              652864.0                         35530.0   \n",
       "1               28748.0                          2930.0   \n",
       "2             2381741.0                         41318.0   \n",
       "3             1246700.0                         29784.0   \n",
       "4                 442.0                           102.0   \n",
       "..                  ...                             ...   \n",
       "191            912050.0                         31977.0   \n",
       "192            330967.0                         95541.0   \n",
       "193            527968.0                         28250.0   \n",
       "194            752612.0                         17094.0   \n",
       "195            390757.0                         16530.0   \n",
       "\n",
       "     GDP per capita (current US$)  Agricultural production index   \\\n",
       "0                           623.2                           125.0   \n",
       "1                          3984.2                           134.0   \n",
       "2                          4154.1                           160.0   \n",
       "3                          4714.1                           175.0   \n",
       "4                         14764.5                            88.0   \n",
       "..                            ...                             ...   \n",
       "191                       11068.9                           118.0   \n",
       "192                        2067.9                           136.0   \n",
       "193                        1106.4                           136.0   \n",
       "194                        1311.1                           179.0   \n",
       "195                         890.4                            99.0   \n",
       "\n",
       "     International trade: Imports (million US$)  \n",
       "0                                        3568.0  \n",
       "1                                        4669.0  \n",
       "2                                       47091.0  \n",
       "3                                        8790.0  \n",
       "4                                         491.0  \n",
       "..                                          ...  \n",
       "191                                     16324.0  \n",
       "192                                    174111.0  \n",
       "193                                      6861.0  \n",
       "194                                      7442.0  \n",
       "195                                      5212.0  \n",
       "\n",
       "[196 rows x 7 columns]"
      ]
     },
     "execution_count": 3,
     "metadata": {},
     "output_type": "execute_result"
    }
   ],
   "source": [
    "data"
   ]
  },
  {
   "cell_type": "markdown",
   "id": "30774b46",
   "metadata": {},
   "source": [
    "### Find out how many countries are there in the dataset"
   ]
  },
  {
   "cell_type": "code",
   "execution_count": 4,
   "id": "2ee0378a",
   "metadata": {},
   "outputs": [
    {
     "data": {
      "text/plain": [
       "196"
      ]
     },
     "execution_count": 4,
     "metadata": {},
     "output_type": "execute_result"
    }
   ],
   "source": [
    "data.country.count()"
   ]
  },
  {
   "cell_type": "markdown",
   "id": "cdfa9963",
   "metadata": {},
   "source": [
    "### How many countries with respect to the region are available"
   ]
  },
  {
   "cell_type": "code",
   "execution_count": 5,
   "id": "56216d0a",
   "metadata": {},
   "outputs": [
    {
     "data": {
      "text/plain": [
       "WesternAsia          18\n",
       "EasternAfrica        17\n",
       "Caribbean            16\n",
       "WesternAfrica        15\n",
       "SouthAmerica         12\n",
       "SouthernEurope       12\n",
       "South-easternAsia    11\n",
       "EasternEurope        10\n",
       "NorthernEurope       10\n",
       "SouthernAsia          9\n",
       "MiddleAfrica          9\n",
       "CentralAmerica        8\n",
       "WesternEurope         7\n",
       "EasternAsia           7\n",
       "SouthernAfrica        5\n",
       "Polynesia             5\n",
       "NorthernAfrica        5\n",
       "Melanesia             5\n",
       "CentralAsia           5\n",
       "NorthernAmerica       4\n",
       "Micronesia            4\n",
       "Oceania               2\n",
       "Name: Region, dtype: int64"
      ]
     },
     "execution_count": 5,
     "metadata": {},
     "output_type": "execute_result"
    }
   ],
   "source": [
    "data['Region'].value_counts()"
   ]
  },
  {
   "cell_type": "markdown",
   "id": "47e78a35",
   "metadata": {},
   "source": [
    "### On average which region has the highest GDP per capita"
   ]
  },
  {
   "cell_type": "code",
   "execution_count": 9,
   "id": "157723de",
   "metadata": {},
   "outputs": [],
   "source": [
    "df=data[['Region','GDP per capita (current US$)']].groupby('Region').mean()"
   ]
  },
  {
   "cell_type": "code",
   "execution_count": 10,
   "id": "85c518ee",
   "metadata": {},
   "outputs": [
    {
     "data": {
      "text/html": [
       "<div>\n",
       "<style scoped>\n",
       "    .dataframe tbody tr th:only-of-type {\n",
       "        vertical-align: middle;\n",
       "    }\n",
       "\n",
       "    .dataframe tbody tr th {\n",
       "        vertical-align: top;\n",
       "    }\n",
       "\n",
       "    .dataframe thead th {\n",
       "        text-align: right;\n",
       "    }\n",
       "</style>\n",
       "<table border=\"1\" class=\"dataframe\">\n",
       "  <thead>\n",
       "    <tr style=\"text-align: right;\">\n",
       "      <th></th>\n",
       "      <th>GDP per capita (current US$)</th>\n",
       "    </tr>\n",
       "    <tr>\n",
       "      <th>Region</th>\n",
       "      <th></th>\n",
       "    </tr>\n",
       "  </thead>\n",
       "  <tbody>\n",
       "    <tr>\n",
       "      <th>Caribbean</th>\n",
       "      <td>15135.562500</td>\n",
       "    </tr>\n",
       "    <tr>\n",
       "      <th>CentralAmerica</th>\n",
       "      <td>6348.137500</td>\n",
       "    </tr>\n",
       "    <tr>\n",
       "      <th>CentralAsia</th>\n",
       "      <td>4329.880000</td>\n",
       "    </tr>\n",
       "    <tr>\n",
       "      <th>EasternAfrica</th>\n",
       "      <td>2088.852941</td>\n",
       "    </tr>\n",
       "    <tr>\n",
       "      <th>EasternAsia</th>\n",
       "      <td>27967.614286</td>\n",
       "    </tr>\n",
       "    <tr>\n",
       "      <th>EasternEurope</th>\n",
       "      <td>9292.490000</td>\n",
       "    </tr>\n",
       "    <tr>\n",
       "      <th>Melanesia</th>\n",
       "      <td>9261.960000</td>\n",
       "    </tr>\n",
       "    <tr>\n",
       "      <th>Micronesia</th>\n",
       "      <td>5008.300000</td>\n",
       "    </tr>\n",
       "    <tr>\n",
       "      <th>MiddleAfrica</th>\n",
       "      <td>3928.833333</td>\n",
       "    </tr>\n",
       "    <tr>\n",
       "      <th>NorthernAfrica</th>\n",
       "      <td>3934.960000</td>\n",
       "    </tr>\n",
       "    <tr>\n",
       "      <th>NorthernAmerica</th>\n",
       "      <td>57659.000000</td>\n",
       "    </tr>\n",
       "    <tr>\n",
       "      <th>NorthernEurope</th>\n",
       "      <td>42098.220000</td>\n",
       "    </tr>\n",
       "    <tr>\n",
       "      <th>Oceania</th>\n",
       "      <td>44823.250000</td>\n",
       "    </tr>\n",
       "    <tr>\n",
       "      <th>Polynesia</th>\n",
       "      <td>8686.520000</td>\n",
       "    </tr>\n",
       "    <tr>\n",
       "      <th>South-easternAsia</th>\n",
       "      <td>10299.027273</td>\n",
       "    </tr>\n",
       "    <tr>\n",
       "      <th>SouthAmerica</th>\n",
       "      <td>8499.775000</td>\n",
       "    </tr>\n",
       "    <tr>\n",
       "      <th>SouthernAfrica</th>\n",
       "      <td>4191.900000</td>\n",
       "    </tr>\n",
       "    <tr>\n",
       "      <th>SouthernAsia</th>\n",
       "      <td>2968.400000</td>\n",
       "    </tr>\n",
       "    <tr>\n",
       "      <th>SouthernEurope</th>\n",
       "      <td>14462.741667</td>\n",
       "    </tr>\n",
       "    <tr>\n",
       "      <th>WesternAfrica</th>\n",
       "      <td>1013.140000</td>\n",
       "    </tr>\n",
       "    <tr>\n",
       "      <th>WesternAsia</th>\n",
       "      <td>17013.938889</td>\n",
       "    </tr>\n",
       "    <tr>\n",
       "      <th>WesternEurope</th>\n",
       "      <td>55387.128571</td>\n",
       "    </tr>\n",
       "  </tbody>\n",
       "</table>\n",
       "</div>"
      ],
      "text/plain": [
       "                   GDP per capita (current US$)\n",
       "Region                                         \n",
       "Caribbean                          15135.562500\n",
       "CentralAmerica                      6348.137500\n",
       "CentralAsia                         4329.880000\n",
       "EasternAfrica                       2088.852941\n",
       "EasternAsia                        27967.614286\n",
       "EasternEurope                       9292.490000\n",
       "Melanesia                           9261.960000\n",
       "Micronesia                          5008.300000\n",
       "MiddleAfrica                        3928.833333\n",
       "NorthernAfrica                      3934.960000\n",
       "NorthernAmerica                    57659.000000\n",
       "NorthernEurope                     42098.220000\n",
       "Oceania                            44823.250000\n",
       "Polynesia                           8686.520000\n",
       "South-easternAsia                  10299.027273\n",
       "SouthAmerica                        8499.775000\n",
       "SouthernAfrica                      4191.900000\n",
       "SouthernAsia                        2968.400000\n",
       "SouthernEurope                     14462.741667\n",
       "WesternAfrica                       1013.140000\n",
       "WesternAsia                        17013.938889\n",
       "WesternEurope                      55387.128571"
      ]
     },
     "execution_count": 10,
     "metadata": {},
     "output_type": "execute_result"
    }
   ],
   "source": [
    "df"
   ]
  },
  {
   "cell_type": "code",
   "execution_count": 11,
   "id": "3d6791cf",
   "metadata": {},
   "outputs": [
    {
     "data": {
      "text/plain": [
       "'NorthernAmerica'"
      ]
     },
     "execution_count": 11,
     "metadata": {},
     "output_type": "execute_result"
    }
   ],
   "source": [
    "df['GDP per capita (current US$)'].idxmax()"
   ]
  },
  {
   "cell_type": "markdown",
   "id": "17a79793",
   "metadata": {},
   "source": [
    "### Region with highest international trade"
   ]
  },
  {
   "cell_type": "code",
   "execution_count": 12,
   "id": "2bc0e042",
   "metadata": {},
   "outputs": [],
   "source": [
    "df1=data[['Region','International trade: Imports (million US$)']].groupby('Region').mean()"
   ]
  },
  {
   "cell_type": "code",
   "execution_count": 13,
   "id": "546ae43d",
   "metadata": {},
   "outputs": [
    {
     "data": {
      "text/html": [
       "<div>\n",
       "<style scoped>\n",
       "    .dataframe tbody tr th:only-of-type {\n",
       "        vertical-align: middle;\n",
       "    }\n",
       "\n",
       "    .dataframe tbody tr th {\n",
       "        vertical-align: top;\n",
       "    }\n",
       "\n",
       "    .dataframe thead th {\n",
       "        text-align: right;\n",
       "    }\n",
       "</style>\n",
       "<table border=\"1\" class=\"dataframe\">\n",
       "  <thead>\n",
       "    <tr style=\"text-align: right;\">\n",
       "      <th></th>\n",
       "      <th>International trade: Imports (million US$)</th>\n",
       "    </tr>\n",
       "    <tr>\n",
       "      <th>Region</th>\n",
       "      <th></th>\n",
       "    </tr>\n",
       "  </thead>\n",
       "  <tbody>\n",
       "    <tr>\n",
       "      <th>Caribbean</th>\n",
       "      <td>3057.312500</td>\n",
       "    </tr>\n",
       "    <tr>\n",
       "      <th>CentralAmerica</th>\n",
       "      <td>57031.500000</td>\n",
       "    </tr>\n",
       "    <tr>\n",
       "      <th>CentralAsia</th>\n",
       "      <td>12063.400000</td>\n",
       "    </tr>\n",
       "    <tr>\n",
       "      <th>EasternAfrica</th>\n",
       "      <td>4726.176471</td>\n",
       "    </tr>\n",
       "    <tr>\n",
       "      <th>EasternAsia</th>\n",
       "      <td>451995.000000</td>\n",
       "    </tr>\n",
       "    <tr>\n",
       "      <th>EasternEurope</th>\n",
       "      <td>85243.900000</td>\n",
       "    </tr>\n",
       "    <tr>\n",
       "      <th>Melanesia</th>\n",
       "      <td>2896.400000</td>\n",
       "    </tr>\n",
       "    <tr>\n",
       "      <th>Micronesia</th>\n",
       "      <td>99.000000</td>\n",
       "    </tr>\n",
       "    <tr>\n",
       "      <th>MiddleAfrica</th>\n",
       "      <td>4381.222222</td>\n",
       "    </tr>\n",
       "    <tr>\n",
       "      <th>NorthernAfrica</th>\n",
       "      <td>35034.400000</td>\n",
       "    </tr>\n",
       "    <tr>\n",
       "      <th>NorthernAmerica</th>\n",
       "      <td>663552.250000</td>\n",
       "    </tr>\n",
       "    <tr>\n",
       "      <th>NorthernEurope</th>\n",
       "      <td>113407.200000</td>\n",
       "    </tr>\n",
       "    <tr>\n",
       "      <th>Oceania</th>\n",
       "      <td>112914.500000</td>\n",
       "    </tr>\n",
       "    <tr>\n",
       "      <th>Polynesia</th>\n",
       "      <td>432.000000</td>\n",
       "    </tr>\n",
       "    <tr>\n",
       "      <th>South-easternAsia</th>\n",
       "      <td>98324.636364</td>\n",
       "    </tr>\n",
       "    <tr>\n",
       "      <th>SouthAmerica</th>\n",
       "      <td>32885.666667</td>\n",
       "    </tr>\n",
       "    <tr>\n",
       "      <th>SouthernAfrica</th>\n",
       "      <td>18005.600000</td>\n",
       "    </tr>\n",
       "    <tr>\n",
       "      <th>SouthernAsia</th>\n",
       "      <td>58199.333333</td>\n",
       "    </tr>\n",
       "    <tr>\n",
       "      <th>SouthernEurope</th>\n",
       "      <td>76666.666667</td>\n",
       "    </tr>\n",
       "    <tr>\n",
       "      <th>WesternAfrica</th>\n",
       "      <td>4898.333333</td>\n",
       "    </tr>\n",
       "    <tr>\n",
       "      <th>WesternAsia</th>\n",
       "      <td>46025.555556</td>\n",
       "    </tr>\n",
       "    <tr>\n",
       "      <th>WesternEurope</th>\n",
       "      <td>407498.428571</td>\n",
       "    </tr>\n",
       "  </tbody>\n",
       "</table>\n",
       "</div>"
      ],
      "text/plain": [
       "                   International trade: Imports (million US$)\n",
       "Region                                                       \n",
       "Caribbean                                         3057.312500\n",
       "CentralAmerica                                   57031.500000\n",
       "CentralAsia                                      12063.400000\n",
       "EasternAfrica                                     4726.176471\n",
       "EasternAsia                                     451995.000000\n",
       "EasternEurope                                    85243.900000\n",
       "Melanesia                                         2896.400000\n",
       "Micronesia                                          99.000000\n",
       "MiddleAfrica                                      4381.222222\n",
       "NorthernAfrica                                   35034.400000\n",
       "NorthernAmerica                                 663552.250000\n",
       "NorthernEurope                                  113407.200000\n",
       "Oceania                                         112914.500000\n",
       "Polynesia                                          432.000000\n",
       "South-easternAsia                                98324.636364\n",
       "SouthAmerica                                     32885.666667\n",
       "SouthernAfrica                                   18005.600000\n",
       "SouthernAsia                                     58199.333333\n",
       "SouthernEurope                                   76666.666667\n",
       "WesternAfrica                                     4898.333333\n",
       "WesternAsia                                      46025.555556\n",
       "WesternEurope                                   407498.428571"
      ]
     },
     "execution_count": 13,
     "metadata": {},
     "output_type": "execute_result"
    }
   ],
   "source": [
    "df1"
   ]
  },
  {
   "cell_type": "code",
   "execution_count": 14,
   "id": "a698b539",
   "metadata": {},
   "outputs": [
    {
     "data": {
      "text/plain": [
       "'NorthernAmerica'"
      ]
     },
     "execution_count": 14,
     "metadata": {},
     "output_type": "execute_result"
    }
   ],
   "source": [
    "df1['International trade: Imports (million US$)'].idxmax()"
   ]
  },
  {
   "cell_type": "markdown",
   "id": "b9fcf59f",
   "metadata": {},
   "source": [
    "### Region consistent with respect to GDP per capita"
   ]
  },
  {
   "cell_type": "code",
   "execution_count": 15,
   "id": "85a4ffff",
   "metadata": {},
   "outputs": [],
   "source": [
    "import statistics"
   ]
  },
  {
   "cell_type": "code",
   "execution_count": 20,
   "id": "d0719f39",
   "metadata": {},
   "outputs": [
    {
     "data": {
      "text/plain": [
       "Region\n",
       "WesternAfrica          815.095399\n",
       "NorthernAfrica         974.706575\n",
       "SouthernAfrica        2177.551120\n",
       "SouthernAsia          2855.708179\n",
       "EasternAfrica         3716.131770\n",
       "CentralAsia           4152.215490\n",
       "CentralAmerica        4180.440883\n",
       "SouthAmerica          4273.707394\n",
       "Micronesia            4820.669694\n",
       "MiddleAfrica          5274.846281\n",
       "EasternEurope         5415.488739\n",
       "Polynesia             6956.250286\n",
       "Oceania               9233.329638\n",
       "SouthernEurope        9541.703216\n",
       "Melanesia            13855.842686\n",
       "Caribbean            14579.371326\n",
       "South-easternAsia    16311.810656\n",
       "WesternAsia          18812.151459\n",
       "NorthernEurope       20671.030185\n",
       "WesternEurope        24770.467728\n",
       "NorthernAmerica      25749.619445\n",
       "EasternAsia          27485.120923\n",
       "Name: GDP per capita (current US$), dtype: float64"
      ]
     },
     "execution_count": 20,
     "metadata": {},
     "output_type": "execute_result"
    }
   ],
   "source": [
    "df2=data.groupby('Region')['GDP per capita (current US$)'].std().sort_values()\n",
    "df2"
   ]
  },
  {
   "cell_type": "code",
   "execution_count": 25,
   "id": "10f7fbd2",
   "metadata": {},
   "outputs": [],
   "source": [
    "import matplotlib.pyplot as plt\n",
    "import seaborn as sns"
   ]
  },
  {
   "cell_type": "code",
   "execution_count": 26,
   "id": "a170e33e",
   "metadata": {},
   "outputs": [
    {
     "data": {
      "image/png": "[encoded data removed]",
      "text/plain": [
       "<Figure size 432x288 with 1 Axes>"
      ]
     },
     "metadata": {
      "needs_background": "light"
     },
     "output_type": "display_data"
    }
   ],
   "source": [
    "df2.plot(kind='bar')\n",
    "plt.title('std of GDP per capita vs Region')\n",
    "plt.show()"
   ]
  },
  {
   "cell_type": "markdown",
   "id": "68856aa6",
   "metadata": {},
   "source": [
    "The standard deviation is less means greater consistency. From this graph we can see WesternAfrica has lowest std,so it is more consistent."
   ]
  },
  {
   "cell_type": "code",
   "execution_count": null,
   "id": "fb2b73c6",
   "metadata": {},
   "outputs": [],
   "source": []
  }
 ],
 "metadata": {
  "kernelspec": {
   "display_name": "Python 3 (ipykernel)",
   "language": "python",
   "name": "python3"
  },
  "language_info": {
   "codemirror_mode": {
    "name": "ipython",
    "version": 3
   },
   "file_extension": ".py",
   "mimetype": "text/x-python",
   "name": "python",
   "nbconvert_exporter": "python",
   "pygments_lexer": "ipython3",
   "version": "3.9.12"
  }
 },
 "nbformat": 4,
 "nbformat_minor": 5
}
